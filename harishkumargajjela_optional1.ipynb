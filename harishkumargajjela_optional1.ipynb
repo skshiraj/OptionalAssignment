{
 "cells": [
  {
   "cell_type": "code",
   "execution_count": 1,
   "metadata": {
    "collapsed": true
   },
   "outputs": [
    {
     "name": "stdout",
     "output_type": "stream",
     "text": [
      "Enter the number to multiply10\n",
      "Multiplication Table of 10\n",
      "10 x 1 = 10\n",
      "10 x 2 = 20\n",
      "10 x 3 = 30\n",
      "10 x 4 = 40\n",
      "10 x 5 = 50\n",
      "10 x 6 = 60\n",
      "10 x 7 = 70\n",
      "10 x 8 = 80\n",
      "10 x 9 = 90\n",
      "10 x 10 = 100\n"
     ]
    }
   ],
   "source": [
    "'\"Progarm 1 : Multiplication Table\"'\n",
    "\n",
    "num=int(input(\"Enter the number to multiply\"))\n",
    "print(\"Multiplication Table of\", num)\n",
    "for i in range(1,11):\n",
    "    print(num,\"x\",i,\"=\",num*i)"
   ]
  },
  {
   "cell_type": "code",
   "execution_count": 5,
   "metadata": {
    "collapsed": true
   },
   "outputs": [
    {
     "name": "stdout",
     "output_type": "stream",
     "text": [
      "1 and 3\n",
      "3 and 5\n",
      "5 and 7\n",
      "11 and 13\n",
      "17 and 19\n",
      "29 and 31\n",
      "41 and 43\n",
      "59 and 61\n",
      "71 and 73\n",
      "101 and 103\n",
      "107 and 109\n",
      "137 and 139\n",
      "149 and 151\n",
      "179 and 181\n",
      "191 and 193\n",
      "197 and 199\n",
      "227 and 229\n",
      "239 and 241\n",
      "269 and 271\n",
      "281 and 283\n",
      "311 and 313\n",
      "347 and 349\n",
      "419 and 421\n",
      "431 and 433\n",
      "461 and 463\n",
      "521 and 523\n",
      "569 and 571\n",
      "599 and 601\n",
      "617 and 619\n",
      "641 and 643\n",
      "659 and 661\n",
      "809 and 811\n",
      "821 and 823\n",
      "827 and 829\n",
      "857 and 859\n",
      "881 and 883\n"
     ]
    }
   ],
   "source": [
    "'\"Progarm 2 : Twin Primes\"'\n",
    "def prime(n):\n",
    "    for i in range(2,n):\n",
    "        if n%i==0:\n",
    "            return False\n",
    "    return True\n",
    "def twinPrimes(start,end):\n",
    "    for i in range(start,end):\n",
    "        j=i+2;\n",
    "        if(prime(i) and prime(j)):\n",
    "            print(\"{:d} and {:d}\".format(i,j))\n",
    "twinPrimes(1,1000)\n",
    "\n",
    "    "
   ]
  },
  {
   "cell_type": "code",
   "execution_count": 39,
   "metadata": {},
   "outputs": [
    {
     "name": "stdout",
     "output_type": "stream",
     "text": [
      " Please Enter any Number: 98\n",
      " 2 is a Prime Factor of a Given Number 98\n",
      " 7 is a Prime Factor of a Given Number 98\n"
     ]
    }
   ],
   "source": [
    "'\"Progarm 3 : Prime Factors\"'\n",
    "Number = int(input(\" Please Enter any Number: \"))\n",
    "i = 1\n",
    "\n",
    "while(i <= Number):\n",
    "    count = 0\n",
    "    if(Number % i == 0):\n",
    "        j = 1\n",
    "        while(j <= i):\n",
    "            if(i % j == 0):\n",
    "                count = count + 1\n",
    "            j = j + 1\n",
    "            \n",
    "        if (count == 2):\n",
    "            print(\" %d is a Prime Factor of a Given Number %d\" %(i, Number))\n",
    "    i = i + 1"
   ]
  },
  {
   "cell_type": "code",
   "execution_count": 17,
   "metadata": {},
   "outputs": [],
   "source": [
    "'\"Progarm 4 : Permutations & Combinations Formulae\"'\n",
    "def ncr(n, r):\n",
    "    #   n choose r = n! /((n-r)! * r!)        \n",
    "    num = factorial(n)\n",
    "    den = factorial(r) * factorial(n-r)\n",
    "    return num/den\n",
    "def npr(n, r):\n",
    "    num = factorial(n)\n",
    "    den = factorial(n-r)\n",
    "    return num/den\n",
    "   \n"
   ]
  },
  {
   "cell_type": "code",
   "execution_count": 15,
   "metadata": {},
   "outputs": [
    {
     "name": "stdout",
     "output_type": "stream",
     "text": [
      "Enter an integer: 45\n",
      "01101"
     ]
    }
   ],
   "source": [
    "'\"Progarm 5 : Decimal to binary Number\"'\n",
    "\n",
    "def binary(n):\n",
    "   \"\"\"Function to print binary number\n",
    "   for the input decimal using recursion\"\"\"\n",
    "   if n > 1:\n",
    "        binary(n//2)\n",
    "        print(n % 2,end = '')\n",
    " \n",
    "# Take decimal number from user\n",
    "dec = int(input(\"Enter an integer: \"))\n",
    "binary(dec)\n"
   ]
  },
  {
   "cell_type": "code",
   "execution_count": null,
   "metadata": {},
   "outputs": [],
   "source": [
    "'\"Progarm 6 : Check Armstrong Number\"'  # Not Completed\n",
    "def printArmstrong(z):\n",
    "    b=cubesum(z)\n",
    "    if b == num:\n",
    "        print(num,\"is an Armstrong number\")\n",
    "    else:\n",
    "        print(num,\"is not an Armstrong number\")\n",
    "def cubesum(num):\n",
    "    sum = 0\n",
    "    temp = num\n",
    "    while temp > 0:\n",
    "        digit = temp % 10\n",
    "        sum += digit ** 3\n",
    "    return temp\n",
    "def isArmstrong(x):\n",
    "        a = cubesum(x)\n",
    "        if (a == num):\n",
    "                return True\n",
    "                            \n",
    "        else:\n",
    "                return False\n",
    "z = int(input(\"Enter a number: \"))  \n",
    "print(printArmstrong(z))\n",
    "        \n",
    "           \n",
    "    \n",
    "    \n",
    "    "
   ]
  },
  {
   "cell_type": "code",
   "execution_count": 3,
   "metadata": {},
   "outputs": [
    {
     "name": "stdout",
     "output_type": "stream",
     "text": [
      "enter number:64646454\n",
      "276480\n"
     ]
    }
   ],
   "source": [
    "'\"Progarm 7 : Product of Digits\"'\n",
    "def prodOfDigits(n):\n",
    "    product = 1\n",
    "  \n",
    "    while (n != 0): \n",
    "        product = product * (n % 10) \n",
    "        n = n // 10\n",
    "  \n",
    "    return product \n",
    "  \n",
    "# Driver Code \n",
    "n = int(input(\"enter number:\"))\n",
    "print(prodOfDigits(n)) \n",
    "        \n",
    "          "
   ]
  },
  {
   "cell_type": "code",
   "execution_count": 9,
   "metadata": {},
   "outputs": [
    {
     "name": "stdout",
     "output_type": "stream",
     "text": [
      "Number: (MP, MDR)\n",
      "======  =========\n",
      "123321: (3, 8)\n",
      "  7739: (3, 8)\n",
      "   893: (3, 2)\n",
      "899998: (2, 0)\n"
     ]
    }
   ],
   "source": [
    "'\"Progarm 8 : MDR MP\"'  \n",
    "\n",
    "from functools import reduce\n",
    "def MDR(n):\n",
    "    'Multiplicative digital root'\n",
    "    mdr = [n]\n",
    "    while mdr[-1] > 9:\n",
    "        mdr.append(reduce(int.__mul__, (int(dig) for dig in str(mdr[-1])), 1))\n",
    "    return len(mdr) - 1, mdr[-1]\n",
    " \n",
    "if __name__ == '__main__':\n",
    "    print('Number: (MP, MDR)\\n======  =========')\n",
    "    for n in (123321, 7739, 893, 899998):\n",
    "        print('%6i: %r' % (n, MDR(n)))\n"
   ]
  },
  {
   "cell_type": "code",
   "execution_count": null,
   "metadata": {},
   "outputs": [],
   "source": [
    "'\"Progarm 9 : Sum of Proper Divisors\"'\n",
    "\n",
    "import math\n",
    "def sumPdivisors(n):\n",
    "    result = 0\n",
    "    i = 2\n",
    "    while i<= (math.sqrt(n)) : \n",
    "        if (n % i == 0) :           \n",
    "            if (i == (n / i)) : \n",
    "                result = result + i; \n",
    "            else : \n",
    "                result = result +  (i + n/i); \n",
    "        i = i + 1\n",
    "    return (result + 1); \n",
    "n=int(input(\"enter number: \"))\n",
    "print(sumPdivisors(n))\n",
    "    "
   ]
  },
  {
   "cell_type": "code",
   "execution_count": 55,
   "metadata": {},
   "outputs": [
    {
     "name": "stdout",
     "output_type": "stream",
     "text": [
      "6 is the Perfect Number\n",
      "24 is the Perfect Number\n",
      "28 is the Perfect Number\n"
     ]
    }
   ],
   "source": [
    "'\"Progarm 10 : Perfect Numbers\"'\n",
    "\n",
    "def perfectNum(start,end):\n",
    "    for i in range(start,end+1):\n",
    "        sum=0\n",
    "        for x in range(1,i):\n",
    "            if(i%x==0):\n",
    "                sum=sum+x\n",
    "                if(sum==i):\n",
    "                    print(i,\"is the Perfect Number\")\n",
    "perfectNum(1,100)\n",
    "        "
   ]
  },
  {
   "cell_type": "code",
   "execution_count": 1,
   "metadata": {},
   "outputs": [
    {
     "name": "stdout",
     "output_type": "stream",
     "text": [
      "284\n",
      "1210\n",
      "0\n"
     ]
    }
   ],
   "source": [
    "'\"Progarm 11 : Amicable Numbers\"'   \n",
    "\n",
    "def sumOfDiv(x): \n",
    "    sum = 1\n",
    "    for i in range(2, x): \n",
    "        if x % i == 0: \n",
    "            sum += i \n",
    "    return sum\n",
    "def isAmicable(a, b): \n",
    "    if sumOfDiv(a) == b and sumOfDiv(b) == a: \n",
    "        return True\n",
    "    else: \n",
    "        return False\n",
    "def countPairs(arr, n): \n",
    "        count = 0\n",
    "        for i in range(0, n): \n",
    "            for j in range(i + 1, n): \n",
    "                if isAmicable(arr[i], arr[j]): \n",
    "                    print(arr[i] and arr[j])\n",
    "        return count \n",
    "  \n",
    "# Driver Code \n",
    "arr1 = [220, 284, 1184, \n",
    "        1210, 2, 5] \n",
    "n1=len(arr1)\n",
    "print(countPairs(arr1,n1))\n",
    "        "
   ]
  },
  {
   "cell_type": "code",
   "execution_count": 10,
   "metadata": {},
   "outputs": [
    {
     "name": "stdout",
     "output_type": "stream",
     "text": [
      "[1, 3, 5]\n"
     ]
    }
   ],
   "source": [
    "'\"Progarm 12 : Filter Odd Numbers\"'\n",
    "lst=[1,2,3,4,5]\n",
    "OddNum=list(filter(lambda x: (x%2),lst))\n",
    "print(OddNum)\n"
   ]
  },
  {
   "cell_type": "code",
   "execution_count": 56,
   "metadata": {
    "collapsed": true
   },
   "outputs": [
    {
     "name": "stdout",
     "output_type": "stream",
     "text": [
      "1\n",
      "8\n",
      "27\n",
      "64\n",
      "125\n"
     ]
    }
   ],
   "source": [
    "'\"Progarm 13 : Map\"'\n",
    "\n",
    "lst=[1,2,3,4,5]\n",
    "sqrdNum=map(lambda x: x**3,lst)\n",
    "for i in sqrdNum:\n",
    "    print(i)"
   ]
  },
  {
   "cell_type": "code",
   "execution_count": 61,
   "metadata": {
    "collapsed": true
   },
   "outputs": [
    {
     "name": "stdout",
     "output_type": "stream",
     "text": [
      "[2, 4]\n",
      "8\n",
      "64\n"
     ]
    }
   ],
   "source": [
    "'\"Progarm 14 : Map & Filter\"'\n",
    "\n",
    "lst=[1,2,3,4,5]\n",
    "EvenNum=list(filter(lambda x: (x%2==0),lst))\n",
    "print(EvenNum)\n",
    "sqrdNum=list(map(lambda x: x**3,EvenNum))\n",
    "for i in sqrdNum:\n",
    "    print(i)\n"
   ]
  },
  {
   "cell_type": "code",
   "execution_count": null,
   "metadata": {},
   "outputs": [],
   "source": []
  }
 ],
 "metadata": {
  "kernelspec": {
   "display_name": "Python 3",
   "language": "python",
   "name": "python3"
  },
  "language_info": {
   "codemirror_mode": {
    "name": "ipython",
    "version": 3
   },
   "file_extension": ".py",
   "mimetype": "text/x-python",
   "name": "python",
   "nbconvert_exporter": "python",
   "pygments_lexer": "ipython3",
   "version": "3.6.5"
  }
 },
 "nbformat": 4,
 "nbformat_minor": 2
}
